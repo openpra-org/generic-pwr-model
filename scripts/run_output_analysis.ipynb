{
 "cells": [
  {
   "cell_type": "code",
   "id": "initial_id",
   "metadata": {
    "collapsed": true,
    "ExecuteTime": {
     "end_time": "2024-06-09T03:13:47.528472Z",
     "start_time": "2024-06-09T03:13:47.519277Z"
    }
   },
   "source": [
    "import os\n",
    "import glob\n",
    "import json\n",
    "import pandas as pd\n",
    "\n",
    "# Function to read and parse JSON files with a .JSCut extension\n",
    "def read_jsinp_files(directory):\n",
    "    files = glob.glob(f\"{directory}/*.JSCut\")\n",
    "    print(f\"Found {len(files)} files.\")\n",
    "    data = []\n",
    "    for file in files:\n",
    "        try:\n",
    "            with open(file, 'r') as f:\n",
    "                content = json.load(f)\n",
    "                data.append((file, content))\n",
    "        except Exception as e:\n",
    "            print(f\"Error reading {file}: {e}\")\n",
    "    return data\n",
    "\n",
    "# Function to extract required information from the JSON content\n",
    "def extract_info(data):\n",
    "    extracted_data = []\n",
    "    for file, content in data:\n",
    "        try:\n",
    "            # Extracting the base name of the file without extension\n",
    "            file_name = os.path.splitext(os.path.basename(file))[0]\n",
    "            \n",
    "            # Extracting the desired part of the file name\n",
    "            file_name_parts = file_name.split('_')\n",
    "            desired_name = '_'.join(file_name_parts[:3])\n",
    "            \n",
    "            saphireresults = content.get('saphireresults', {})\n",
    "            sequencecount = saphireresults.get('sequencecount', 0)\n",
    "            \n",
    "            numcutsets_total = 0\n",
    "            valcutsets_total = 0.0\n",
    "            \n",
    "            for sequence in saphireresults.get('sequencelist', []):\n",
    "                numcutsets_total += sequence.get('numcutsets', 0)\n",
    "                valcutsets_total += sequence.get('valcutsets', 0.0)\n",
    "            \n",
    "            extracted_data.append({\n",
    "                'Input-File': desired_name,  # Using the desired part of the file name\n",
    "                'Number-of-Cutsets': numcutsets_total,\n",
    "                'Value-Cutsets': valcutsets_total,\n",
    "                'Number-of-Sequences': sequencecount\n",
    "            })\n",
    "        except Exception as e:\n",
    "            print(f\"Error processing {file}: {e}\")\n",
    "    return extracted_data\n",
    "\n",
    "# Path to the directory containing .JSCut files\n",
    "directory = \"/Users/afshar-flow/Repo/Gitlab/Enhancement-of-PRA-Tools/Model-Exchange/model-converter/output_saphsolve_actual_models/generic_PWR_V1.2\"\n",
    "\n",
    "# Read and parse JSON files\n",
    "json_data = read_jsinp_files(directory)\n",
    "print(f\"Parsed data: {json_data[:2]}...\")  # Print only the first two entries for brevity\n",
    "\n",
    "# Extract required information\n",
    "extracted_data = extract_info(json_data)\n",
    "print(f\"Extracted data: {extracted_data[:2]}...\")  # Print only the first two entries for brevity\n",
    "\n",
    "# Convert the extracted data to a DataFrame\n",
    "df = pd.DataFrame(extracted_data)\n",
    "print(f\"DataFrame:\\n{df.head()}\")\n",
    "\n",
    "# Export to a CSV file (Uncomment when ready)\n",
    "df.to_csv(\"/Users/afshar-flow/Repo/Gitlab/Enhancement-of-PRA-Tools/Model-Exchange/model-converter/output_saphsolve_actual_models/generic_PWR_V1.2/generic_PWR_V1_2_results_95groups.csv\", index=False)\n"
   ],
   "outputs": [
    {
     "name": "stdout",
     "output_type": "stream",
     "text": [
      "Found 1 files.\n",
      "Parsed data: [('/Users/afshar-flow/Repo/Gitlab/Enhancement-of-PRA-Tools/Model-Exchange/model-converter/output_saphsolve_actual_models/generic_PWR_V1.2/XLOCA_et_Grp-1_24-02-26_16-02-27.JSCut', {'version': '1.0', 'saphireresults': {'projectpath': '\"C:\\\\Users\\\\egeme\\\\Desktop\\\\models\\\\G-PWRModelV1.2\"', 'resulttype': 'eventtree', 'resulttreeid': 8, 'initevent': 8, 'truncparam': {'ettruncopt': 'NormalProbCutOff', 'fttruncopt': 'GlobalProbCutOff', 'sizeopt': 'ENoTrunc', 'ettruncval': 1e-20, 'fttruncval': 1e-20, 'sizeval': 99, 'transrepl': False, 'transzones': False, 'translevel': '99', 'usedual': False, 'dualcutoff': 0.0}, 'workspacepair': [{'ph': 1, 'mt': 1}], 'flagnum': 0, 'sequencecount': 1, 'sequencelist': [{'resultseqid': 49, 'numcutsets': 1, 'valcutsets': 1e-07, 'cutsetlist': [{'event': [33819928]}]}]}})]...\n",
      "Extracted data: [{'Input-File': 'XLOCA_et_Grp-1', 'Number-of-Cutsets': 1, 'Value-Cutsets': 1e-07, 'Number-of-Sequences': 1}]...\n",
      "DataFrame:\n",
      "       Input-File  Number-of-Cutsets  Value-Cutsets  Number-of-Sequences\n",
      "0  XLOCA_et_Grp-1                  1   1.000000e-07                    1\n"
     ]
    }
   ],
   "execution_count": 30
  }
 ],
 "metadata": {
  "kernelspec": {
   "display_name": "Python 3",
   "language": "python",
   "name": "python3"
  },
  "language_info": {
   "codemirror_mode": {
    "name": "ipython",
    "version": 2
   },
   "file_extension": ".py",
   "mimetype": "text/x-python",
   "name": "python",
   "nbconvert_exporter": "python",
   "pygments_lexer": "ipython2",
   "version": "2.7.6"
  }
 },
 "nbformat": 4,
 "nbformat_minor": 5
}

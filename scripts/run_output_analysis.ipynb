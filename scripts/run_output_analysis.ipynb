{
 "cells": [
  {
   "cell_type": "code",
   "id": "initial_id",
   "metadata": {
    "collapsed": true,
    "ExecuteTime": {
     "end_time": "2024-06-09T03:32:27.146872Z",
     "start_time": "2024-06-09T03:31:34.970326Z"
    }
   },
   "source": [
    "import os\n",
    "import glob\n",
    "import json\n",
    "import pandas as pd\n",
    "\n",
    "# Function to read and parse JSON files with a .JSCut extension\n",
    "def read_jsinp_files(directory):\n",
    "    files = glob.glob(f\"{directory}/*.JSCut\")\n",
    "    print(f\"Found {len(files)} files.\")\n",
    "    data = []\n",
    "    for file in files:\n",
    "        try:\n",
    "            with open(file, 'r') as f:\n",
    "                content = json.load(f)\n",
    "                data.append((file, content))\n",
    "        except Exception as e:\n",
    "            print(f\"Error reading {file}: {e}\")\n",
    "    return data\n",
    "\n",
    "# Function to extract required information from the JSON content\n",
    "def extract_info(data):\n",
    "    extracted_data = []\n",
    "    for file, content in data:\n",
    "        try:\n",
    "            # Extracting the base name of the file without extension\n",
    "            file_name = os.path.splitext(os.path.basename(file))[0]\n",
    "            \n",
    "            # Extracting the desired part of the file name\n",
    "            file_name_parts = file_name.split('_')\n",
    "            desired_name = '_'.join(file_name_parts[:3])\n",
    "            \n",
    "            saphireresults = content.get('saphireresults', {})\n",
    "            sequencecount = saphireresults.get('sequencecount', 0)\n",
    "            \n",
    "            numcutsets_total = 0\n",
    "            valcutsets_total = 0.0\n",
    "            \n",
    "            for sequence in saphireresults.get('sequencelist', []):\n",
    "                numcutsets_total += sequence.get('numcutsets', 0)\n",
    "                valcutsets_total += sequence.get('valcutsets', 0.0)\n",
    "            \n",
    "            extracted_data.append({\n",
    "                'Input-File': desired_name,  # Using the desired part of the file name\n",
    "                'Number-of-Cutsets': numcutsets_total,\n",
    "                'Value-Cutsets': valcutsets_total,\n",
    "                'Number-of-Sequences': sequencecount\n",
    "            })\n",
    "        except Exception as e:\n",
    "            print(f\"Error processing {file}: {e}\")\n",
    "    return extracted_data\n",
    "\n",
    "# Path to the directory containing .JSCut files\n",
    "directory = \"/Users/afshar-flow/Repo/Gitlab/Enhancement-of-PRA-Tools/Model-Exchange/model-converter/output_saphsolve_actual_models/generic_PWR_V1.2\"\n",
    "\n",
    "# Read and parse JSON files\n",
    "json_data = read_jsinp_files(directory)\n",
    "print(f\"Parsed data: {json_data[:2]}...\")  # Print only the first two entries for brevity\n",
    "\n",
    "# Extract required information\n",
    "extracted_data = extract_info(json_data)\n",
    "print(f\"Extracted data: {extracted_data[:2]}...\")  # Print only the first two entries for brevity\n",
    "\n",
    "# Convert the extracted data to a DataFrame\n",
    "df = pd.DataFrame(extracted_data)\n",
    "print(f\"DataFrame:\\n{df.head()}\")\n",
    "\n",
    "# Export to a CSV file (Uncomment when ready)\n",
    "# Export to a CSV file with Value-Cutsets in scientific notation\n",
    "df.to_csv(\"/Users/afshar-flow/Repo/Gitlab/Enhancement-of-PRA-Tools/Model-Exchange/model-converter/output_saphsolve_actual_models/generic_PWR_V1.2/genericPWR_V1_2_results.csv\", index=False, float_format='%.4E')"
   ],
   "outputs": [
    {
     "name": "stdout",
     "output_type": "stream",
     "text": [
      "Found 95 files.\n"
     ]
    },
    {
     "name": "stderr",
     "output_type": "stream",
     "text": [
      "IOPub data rate exceeded.\n",
      "The Jupyter server will temporarily stop sending output\n",
      "to the client in order to avoid crashing it.\n",
      "To change this limit, set the config variable\n",
      "`--ServerApp.iopub_data_rate_limit`.\n",
      "\n",
      "Current values:\n",
      "ServerApp.iopub_data_rate_limit=1000000.0 (bytes/sec)\n",
      "ServerApp.rate_limit_window=3.0 (secs)\n",
      "\n"
     ]
    }
   ],
   "execution_count": 33
  }
 ],
 "metadata": {
  "kernelspec": {
   "display_name": "Python 3",
   "language": "python",
   "name": "python3"
  },
  "language_info": {
   "codemirror_mode": {
    "name": "ipython",
    "version": 2
   },
   "file_extension": ".py",
   "mimetype": "text/x-python",
   "name": "python",
   "nbconvert_exporter": "python",
   "pygments_lexer": "ipython2",
   "version": "2.7.6"
  }
 },
 "nbformat": 4,
 "nbformat_minor": 5
}
